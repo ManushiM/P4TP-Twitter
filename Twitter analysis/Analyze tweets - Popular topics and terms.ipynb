{
 "cells": [
  {
   "cell_type": "markdown",
   "metadata": {},
   "source": [
    "## Analyze tweets for PFTP\n"
   ]
  },
  {
   "cell_type": "markdown",
   "metadata": {},
   "source": [
    "#### Run this cell to connect to your GIS and get started:"
   ]
  },
  {
   "cell_type": "code",
   "execution_count": 1,
   "metadata": {},
   "outputs": [
    {
     "name": "stdout",
     "output_type": "stream",
     "text": [
      "Enter password: ········\n"
     ]
    }
   ],
   "source": [
    "from arcgis.gis import GIS\n",
    "from arcgis.features import FeatureLayer\n",
    "gis = GIS(\"https://ourcommunity.maps.arcgis.com\", \"MMajumdar_ourcommunity\")"
   ]
  },
  {
   "cell_type": "markdown",
   "metadata": {},
   "source": [
    "#### Now you are ready to start!"
   ]
  },
  {
   "cell_type": "code",
   "execution_count": 2,
   "metadata": {},
   "outputs": [
    {
     "data": {
      "text/plain": [
       "(88301, 7)"
      ]
     },
     "execution_count": 2,
     "metadata": {},
     "output_type": "execute_result"
    }
   ],
   "source": [
    "tweets_item = gis.content.get('e441d3f5e13b412299418034d1fb0eba')\n",
    "tweets_layer = FeatureLayer(tweets_item.url+'/0')\n",
    "tweets_features = tweets_layer.query(out_fields='tweet_text, hashtags, screen_name, state, party, created_at')\n",
    "tweets_df = tweets_features.sdf\n",
    "tweets_df.shape"
   ]
  },
  {
   "cell_type": "code",
   "execution_count": 3,
   "metadata": {},
   "outputs": [
    {
     "data": {
      "text/html": [
       "<div>\n",
       "<style scoped>\n",
       "    .dataframe tbody tr th:only-of-type {\n",
       "        vertical-align: middle;\n",
       "    }\n",
       "\n",
       "    .dataframe tbody tr th {\n",
       "        vertical-align: top;\n",
       "    }\n",
       "\n",
       "    .dataframe thead th {\n",
       "        text-align: right;\n",
       "    }\n",
       "</style>\n",
       "<table border=\"1\" class=\"dataframe\">\n",
       "  <thead>\n",
       "    <tr style=\"text-align: right;\">\n",
       "      <th></th>\n",
       "      <th>ObjectId</th>\n",
       "      <th>created_at</th>\n",
       "      <th>hashtags</th>\n",
       "      <th>party</th>\n",
       "      <th>screen_name</th>\n",
       "      <th>state</th>\n",
       "      <th>tweet_text</th>\n",
       "    </tr>\n",
       "  </thead>\n",
       "  <tbody>\n",
       "    <tr>\n",
       "      <th>0</th>\n",
       "      <td>830627</td>\n",
       "      <td>2020-10-05 16:14:51</td>\n",
       "      <td></td>\n",
       "      <td>R</td>\n",
       "      <td>mnicholson_BU13</td>\n",
       "      <td>Louisiana</td>\n",
       "      <td>Warming my team up in the cages before games o...</td>\n",
       "    </tr>\n",
       "    <tr>\n",
       "      <th>1</th>\n",
       "      <td>830628</td>\n",
       "      <td>2020-10-05 16:14:51</td>\n",
       "      <td></td>\n",
       "      <td>R</td>\n",
       "      <td>RonaldinhoG6</td>\n",
       "      <td>Louisiana</td>\n",
       "      <td>@Bluegrenades Tbh he could have made a differe...</td>\n",
       "    </tr>\n",
       "    <tr>\n",
       "      <th>2</th>\n",
       "      <td>830629</td>\n",
       "      <td>2020-10-05 16:14:51</td>\n",
       "      <td></td>\n",
       "      <td>R</td>\n",
       "      <td>just_a_roach</td>\n",
       "      <td>Louisiana</td>\n",
       "      <td>IF YOU CANT TELL IM FUCKING LIVID. IT IS SO DI...</td>\n",
       "    </tr>\n",
       "    <tr>\n",
       "      <th>3</th>\n",
       "      <td>830630</td>\n",
       "      <td>2020-10-05 16:14:51</td>\n",
       "      <td></td>\n",
       "      <td>R</td>\n",
       "      <td>ZeteticAdvocate</td>\n",
       "      <td>Louisiana</td>\n",
       "      <td>@xavierbonilla87 The problem with Biden on thi...</td>\n",
       "    </tr>\n",
       "    <tr>\n",
       "      <th>4</th>\n",
       "      <td>830631</td>\n",
       "      <td>2020-10-05 16:14:51</td>\n",
       "      <td></td>\n",
       "      <td>R</td>\n",
       "      <td>Syllba</td>\n",
       "      <td>Louisiana</td>\n",
       "      <td>I’ve still not recovered from this.</td>\n",
       "    </tr>\n",
       "  </tbody>\n",
       "</table>\n",
       "</div>"
      ],
      "text/plain": [
       "   ObjectId          created_at hashtags party      screen_name      state  \\\n",
       "0    830627 2020-10-05 16:14:51              R  mnicholson_BU13  Louisiana   \n",
       "1    830628 2020-10-05 16:14:51              R     RonaldinhoG6  Louisiana   \n",
       "2    830629 2020-10-05 16:14:51              R     just_a_roach  Louisiana   \n",
       "3    830630 2020-10-05 16:14:51              R  ZeteticAdvocate  Louisiana   \n",
       "4    830631 2020-10-05 16:14:51              R           Syllba  Louisiana   \n",
       "\n",
       "                                          tweet_text  \n",
       "0  Warming my team up in the cages before games o...  \n",
       "1  @Bluegrenades Tbh he could have made a differe...  \n",
       "2  IF YOU CANT TELL IM FUCKING LIVID. IT IS SO DI...  \n",
       "3  @xavierbonilla87 The problem with Biden on thi...  \n",
       "4                I’ve still not recovered from this.  "
      ]
     },
     "execution_count": 3,
     "metadata": {},
     "output_type": "execute_result"
    }
   ],
   "source": [
    "tweets_df.head()"
   ]
  },
  {
   "cell_type": "markdown",
   "metadata": {},
   "source": [
    "### Convert state abbreviations to state name"
   ]
  },
  {
   "cell_type": "code",
   "execution_count": 4,
   "metadata": {},
   "outputs": [],
   "source": [
    "us_state_abbrev = {'AL':'Alabama',\n",
    "    'AK':'Alaska',\n",
    "    'AZ':'Arizona',\n",
    "    'AR':'Arkansas',\n",
    "    'CA':'California',\n",
    "    'CO':'Colorado',\n",
    "    'CT':'Connecticut',\n",
    "    'DE':'Delaware',\n",
    "    'DC':'District of Columbia',\n",
    "    'FL':'Florida',\n",
    "    'GA':'Georgia',\n",
    "    'HI':'Hawaii',\n",
    "    'ID':'Idaho',\n",
    "    'IL':'Illinois',\n",
    "    'IN':'Indiana',\n",
    "    'IA':'Iowa',\n",
    "    'KS':'Kansas',\n",
    "    'KY':'Kentucky',\n",
    "    'LA':'Louisiana',\n",
    "    'ME':'Maine',\n",
    "    'MD':'Maryland',\n",
    "    'MA':'Massachusetts',\n",
    "    'MI':'Michigan',\n",
    "    'MN':'Minnesota',\n",
    "    'MS':'Mississippi',\n",
    "    'MO':'Missouri',\n",
    "    'MT':'Montana',\n",
    "    'NE':'Nebraska',\n",
    "    'NV':'Nevada',\n",
    "    'NH':'New Hampshire',\n",
    "    'NJ':'New Jersey',\n",
    "    'NM':'New Mexico',\n",
    "    'NY':'New York',\n",
    "    'NC':'North Carolina',\n",
    "    'ND':'North Dakota',\n",
    "    'OH':'Ohio',\n",
    "    'OK':'Oklahoma',\n",
    "    'OR':'Oregon',\n",
    "    'PA':'Pennsylvania',\n",
    "    'RI':'Rhode Island',\n",
    "    'SC':'South Carolina',\n",
    "    'SD':'South Dakota',\n",
    "    'TN':'Tennessee',\n",
    "    'TX':'Texas',\n",
    "    'UT':'Utah',\n",
    "    'VT':'Vermont',\n",
    "    'VA':'Virginia',\n",
    "    'WA':'Washington',\n",
    "    'WV':'West Virginia',\n",
    "    'WI':'Wisconsin',\n",
    "    'WY':'Wyoming'\n",
    "}"
   ]
  },
  {
   "cell_type": "code",
   "execution_count": 5,
   "metadata": {},
   "outputs": [],
   "source": [
    "def replace_states(value):\n",
    "    '''Replace state abbreviations with state names'''\n",
    "    if len(value)==2:\n",
    "        return us_state_abbrev[value]\n",
    "    else:\n",
    "        return value"
   ]
  },
  {
   "cell_type": "code",
   "execution_count": 6,
   "metadata": {},
   "outputs": [
    {
     "data": {
      "text/html": [
       "<div>\n",
       "<style scoped>\n",
       "    .dataframe tbody tr th:only-of-type {\n",
       "        vertical-align: middle;\n",
       "    }\n",
       "\n",
       "    .dataframe tbody tr th {\n",
       "        vertical-align: top;\n",
       "    }\n",
       "\n",
       "    .dataframe thead th {\n",
       "        text-align: right;\n",
       "    }\n",
       "</style>\n",
       "<table border=\"1\" class=\"dataframe\">\n",
       "  <thead>\n",
       "    <tr style=\"text-align: right;\">\n",
       "      <th></th>\n",
       "      <th>ObjectId</th>\n",
       "      <th>created_at</th>\n",
       "      <th>hashtags</th>\n",
       "      <th>party</th>\n",
       "      <th>screen_name</th>\n",
       "      <th>state</th>\n",
       "      <th>tweet_text</th>\n",
       "    </tr>\n",
       "  </thead>\n",
       "  <tbody>\n",
       "    <tr>\n",
       "      <th>0</th>\n",
       "      <td>830627</td>\n",
       "      <td>2020-10-05 16:14:51</td>\n",
       "      <td></td>\n",
       "      <td>R</td>\n",
       "      <td>mnicholson_BU13</td>\n",
       "      <td>Louisiana</td>\n",
       "      <td>Warming my team up in the cages before games o...</td>\n",
       "    </tr>\n",
       "    <tr>\n",
       "      <th>1</th>\n",
       "      <td>830628</td>\n",
       "      <td>2020-10-05 16:14:51</td>\n",
       "      <td></td>\n",
       "      <td>R</td>\n",
       "      <td>RonaldinhoG6</td>\n",
       "      <td>Louisiana</td>\n",
       "      <td>@Bluegrenades Tbh he could have made a differe...</td>\n",
       "    </tr>\n",
       "    <tr>\n",
       "      <th>2</th>\n",
       "      <td>830629</td>\n",
       "      <td>2020-10-05 16:14:51</td>\n",
       "      <td></td>\n",
       "      <td>R</td>\n",
       "      <td>just_a_roach</td>\n",
       "      <td>Louisiana</td>\n",
       "      <td>IF YOU CANT TELL IM FUCKING LIVID. IT IS SO DI...</td>\n",
       "    </tr>\n",
       "    <tr>\n",
       "      <th>3</th>\n",
       "      <td>830630</td>\n",
       "      <td>2020-10-05 16:14:51</td>\n",
       "      <td></td>\n",
       "      <td>R</td>\n",
       "      <td>ZeteticAdvocate</td>\n",
       "      <td>Louisiana</td>\n",
       "      <td>@xavierbonilla87 The problem with Biden on thi...</td>\n",
       "    </tr>\n",
       "    <tr>\n",
       "      <th>4</th>\n",
       "      <td>830631</td>\n",
       "      <td>2020-10-05 16:14:51</td>\n",
       "      <td></td>\n",
       "      <td>R</td>\n",
       "      <td>Syllba</td>\n",
       "      <td>Louisiana</td>\n",
       "      <td>I’ve still not recovered from this.</td>\n",
       "    </tr>\n",
       "  </tbody>\n",
       "</table>\n",
       "</div>"
      ],
      "text/plain": [
       "   ObjectId          created_at hashtags party      screen_name      state  \\\n",
       "0    830627 2020-10-05 16:14:51              R  mnicholson_BU13  Louisiana   \n",
       "1    830628 2020-10-05 16:14:51              R     RonaldinhoG6  Louisiana   \n",
       "2    830629 2020-10-05 16:14:51              R     just_a_roach  Louisiana   \n",
       "3    830630 2020-10-05 16:14:51              R  ZeteticAdvocate  Louisiana   \n",
       "4    830631 2020-10-05 16:14:51              R           Syllba  Louisiana   \n",
       "\n",
       "                                          tweet_text  \n",
       "0  Warming my team up in the cages before games o...  \n",
       "1  @Bluegrenades Tbh he could have made a differe...  \n",
       "2  IF YOU CANT TELL IM FUCKING LIVID. IT IS SO DI...  \n",
       "3  @xavierbonilla87 The problem with Biden on thi...  \n",
       "4                I’ve still not recovered from this.  "
      ]
     },
     "execution_count": 6,
     "metadata": {},
     "output_type": "execute_result"
    }
   ],
   "source": [
    "tweets_df['state'] = tweets_df['state'].apply(replace_states)\n",
    "tweets_df.head()"
   ]
  },
  {
   "cell_type": "markdown",
   "metadata": {},
   "source": [
    "## 1. Extracting mentions for tweets"
   ]
  },
  {
   "cell_type": "code",
   "execution_count": 7,
   "metadata": {},
   "outputs": [
    {
     "data": {
      "text/plain": [
       "0                   \n",
       "1       Bluegrenades\n",
       "2                   \n",
       "3    xavierbonilla87\n",
       "4                   \n",
       "Name: mention, dtype: object"
      ]
     },
     "execution_count": 7,
     "metadata": {},
     "output_type": "execute_result"
    }
   ],
   "source": [
    "tweets_df['mention'] = tweets_df['tweet_text'].str.findall(r'(?<![@\\w])@(\\w{1,25})').apply(','.join)\n",
    "tweets_df['mention'].head()"
   ]
  },
  {
   "cell_type": "markdown",
   "metadata": {},
   "source": [
    "## 2. Extract tokens for each tweet"
   ]
  },
  {
   "cell_type": "code",
   "execution_count": 8,
   "metadata": {},
   "outputs": [
    {
     "name": "stderr",
     "output_type": "stream",
     "text": [
      "[nltk_data] Downloading package punkt to\n",
      "[nltk_data]     C:\\Users\\manu9321\\AppData\\Roaming\\nltk_data...\n",
      "[nltk_data]   Package punkt is already up-to-date!\n"
     ]
    },
    {
     "data": {
      "text/plain": [
       "True"
      ]
     },
     "execution_count": 8,
     "metadata": {},
     "output_type": "execute_result"
    }
   ],
   "source": [
    "from nltk.tokenize import word_tokenize\n",
    "import pandas as pd\n",
    "\n",
    "import nltk\n",
    "nltk.download('punkt')"
   ]
  },
  {
   "cell_type": "code",
   "execution_count": 9,
   "metadata": {},
   "outputs": [
    {
     "data": {
      "text/plain": [
       "0    [Warming, my, team, up, in, the, cages, before...\n",
       "1    [@, Bluegrenades, Tbh, he, could, have, made, ...\n",
       "2    [IF, YOU, CANT, TELL, IM, FUCKING, LIVID, ., I...\n",
       "3    [@, xavierbonilla87, The, problem, with, Biden...\n",
       "4     [I, ’, ve, still, not, recovered, from, this, .]\n",
       "Name: tokens, dtype: object"
      ]
     },
     "execution_count": 9,
     "metadata": {},
     "output_type": "execute_result"
    }
   ],
   "source": [
    "tweets_df['tokens'] = tweets_df['tweet_text'].apply(word_tokenize)\n",
    "tweets_df['tokens'].head()"
   ]
  },
  {
   "cell_type": "code",
   "execution_count": 10,
   "metadata": {},
   "outputs": [
    {
     "name": "stderr",
     "output_type": "stream",
     "text": [
      "[nltk_data] Downloading package stopwords to\n",
      "[nltk_data]     C:\\Users\\manu9321\\AppData\\Roaming\\nltk_data...\n",
      "[nltk_data]   Package stopwords is already up-to-date!\n"
     ]
    },
    {
     "data": {
      "text/plain": [
       "True"
      ]
     },
     "execution_count": 10,
     "metadata": {},
     "output_type": "execute_result"
    }
   ],
   "source": [
    "nltk.download('stopwords')"
   ]
  },
  {
   "cell_type": "code",
   "execution_count": 11,
   "metadata": {},
   "outputs": [],
   "source": [
    "from nltk.corpus import stopwords\n",
    "english_stopwords = set(stopwords.words('english'))"
   ]
  },
  {
   "cell_type": "code",
   "execution_count": 12,
   "metadata": {},
   "outputs": [],
   "source": [
    "def clean_tokens(tokens):\n",
    "    '''Remove punctuation and stopwords from tokens'''\n",
    "    english_stopwords.add('http')\n",
    "    english_stopwords.add('https')\n",
    "    english_stopwords.add('amp')\n",
    "    tokens1 = [word for word in tokens if word.isalnum()]\n",
    "    return [x for x in tokens1 if x.lower() not in english_stopwords]"
   ]
  },
  {
   "cell_type": "code",
   "execution_count": 13,
   "metadata": {},
   "outputs": [
    {
     "data": {
      "text/plain": [
       "0    [Warming, team, cages, games, Saturday, heard,...\n",
       "1    [Bluegrenades, Tbh, could, made, difference, r...\n",
       "2    [CANT, TELL, IM, FUCKING, LIVID, DISGUSTING, P...\n",
       "3    [xavierbonilla87, problem, Biden, issue, likel...\n",
       "4                                   [still, recovered]\n",
       "Name: cleaned_tokens, dtype: object"
      ]
     },
     "execution_count": 13,
     "metadata": {},
     "output_type": "execute_result"
    }
   ],
   "source": [
    "tweets_df['cleaned_tokens'] = tweets_df['tokens'].apply(clean_tokens)\n",
    "tweets_df['cleaned_tokens'].head()"
   ]
  },
  {
   "cell_type": "code",
   "execution_count": 14,
   "metadata": {},
   "outputs": [
    {
     "data": {
      "text/html": [
       "<div>\n",
       "<style scoped>\n",
       "    .dataframe tbody tr th:only-of-type {\n",
       "        vertical-align: middle;\n",
       "    }\n",
       "\n",
       "    .dataframe tbody tr th {\n",
       "        vertical-align: top;\n",
       "    }\n",
       "\n",
       "    .dataframe thead th {\n",
       "        text-align: right;\n",
       "    }\n",
       "</style>\n",
       "<table border=\"1\" class=\"dataframe\">\n",
       "  <thead>\n",
       "    <tr style=\"text-align: right;\">\n",
       "      <th></th>\n",
       "      <th>ObjectId</th>\n",
       "      <th>created_at</th>\n",
       "      <th>hashtags</th>\n",
       "      <th>party</th>\n",
       "      <th>screen_name</th>\n",
       "      <th>state</th>\n",
       "      <th>tweet_text</th>\n",
       "      <th>mention</th>\n",
       "      <th>tokens</th>\n",
       "      <th>cleaned_tokens</th>\n",
       "    </tr>\n",
       "  </thead>\n",
       "  <tbody>\n",
       "    <tr>\n",
       "      <th>0</th>\n",
       "      <td>830627</td>\n",
       "      <td>2020-10-05 16:14:51</td>\n",
       "      <td></td>\n",
       "      <td>R</td>\n",
       "      <td>mnicholson_BU13</td>\n",
       "      <td>Louisiana</td>\n",
       "      <td>Warming my team up in the cages before games o...</td>\n",
       "      <td></td>\n",
       "      <td>[Warming, my, team, up, in, the, cages, before...</td>\n",
       "      <td>[Warming, team, cages, games, Saturday, heard,...</td>\n",
       "    </tr>\n",
       "    <tr>\n",
       "      <th>1</th>\n",
       "      <td>830628</td>\n",
       "      <td>2020-10-05 16:14:51</td>\n",
       "      <td></td>\n",
       "      <td>R</td>\n",
       "      <td>RonaldinhoG6</td>\n",
       "      <td>Louisiana</td>\n",
       "      <td>@Bluegrenades Tbh he could have made a differe...</td>\n",
       "      <td>Bluegrenades</td>\n",
       "      <td>[@, Bluegrenades, Tbh, he, could, have, made, ...</td>\n",
       "      <td>[Bluegrenades, Tbh, could, made, difference, r...</td>\n",
       "    </tr>\n",
       "    <tr>\n",
       "      <th>2</th>\n",
       "      <td>830629</td>\n",
       "      <td>2020-10-05 16:14:51</td>\n",
       "      <td></td>\n",
       "      <td>R</td>\n",
       "      <td>just_a_roach</td>\n",
       "      <td>Louisiana</td>\n",
       "      <td>IF YOU CANT TELL IM FUCKING LIVID. IT IS SO DI...</td>\n",
       "      <td></td>\n",
       "      <td>[IF, YOU, CANT, TELL, IM, FUCKING, LIVID, ., I...</td>\n",
       "      <td>[CANT, TELL, IM, FUCKING, LIVID, DISGUSTING, P...</td>\n",
       "    </tr>\n",
       "    <tr>\n",
       "      <th>3</th>\n",
       "      <td>830630</td>\n",
       "      <td>2020-10-05 16:14:51</td>\n",
       "      <td></td>\n",
       "      <td>R</td>\n",
       "      <td>ZeteticAdvocate</td>\n",
       "      <td>Louisiana</td>\n",
       "      <td>@xavierbonilla87 The problem with Biden on thi...</td>\n",
       "      <td>xavierbonilla87</td>\n",
       "      <td>[@, xavierbonilla87, The, problem, with, Biden...</td>\n",
       "      <td>[xavierbonilla87, problem, Biden, issue, likel...</td>\n",
       "    </tr>\n",
       "    <tr>\n",
       "      <th>4</th>\n",
       "      <td>830631</td>\n",
       "      <td>2020-10-05 16:14:51</td>\n",
       "      <td></td>\n",
       "      <td>R</td>\n",
       "      <td>Syllba</td>\n",
       "      <td>Louisiana</td>\n",
       "      <td>I’ve still not recovered from this.</td>\n",
       "      <td></td>\n",
       "      <td>[I, ’, ve, still, not, recovered, from, this, .]</td>\n",
       "      <td>[still, recovered]</td>\n",
       "    </tr>\n",
       "  </tbody>\n",
       "</table>\n",
       "</div>"
      ],
      "text/plain": [
       "   ObjectId          created_at hashtags party      screen_name      state  \\\n",
       "0    830627 2020-10-05 16:14:51              R  mnicholson_BU13  Louisiana   \n",
       "1    830628 2020-10-05 16:14:51              R     RonaldinhoG6  Louisiana   \n",
       "2    830629 2020-10-05 16:14:51              R     just_a_roach  Louisiana   \n",
       "3    830630 2020-10-05 16:14:51              R  ZeteticAdvocate  Louisiana   \n",
       "4    830631 2020-10-05 16:14:51              R           Syllba  Louisiana   \n",
       "\n",
       "                                          tweet_text          mention  \\\n",
       "0  Warming my team up in the cages before games o...                    \n",
       "1  @Bluegrenades Tbh he could have made a differe...     Bluegrenades   \n",
       "2  IF YOU CANT TELL IM FUCKING LIVID. IT IS SO DI...                    \n",
       "3  @xavierbonilla87 The problem with Biden on thi...  xavierbonilla87   \n",
       "4                I’ve still not recovered from this.                    \n",
       "\n",
       "                                              tokens  \\\n",
       "0  [Warming, my, team, up, in, the, cages, before...   \n",
       "1  [@, Bluegrenades, Tbh, he, could, have, made, ...   \n",
       "2  [IF, YOU, CANT, TELL, IM, FUCKING, LIVID, ., I...   \n",
       "3  [@, xavierbonilla87, The, problem, with, Biden...   \n",
       "4   [I, ’, ve, still, not, recovered, from, this, .]   \n",
       "\n",
       "                                      cleaned_tokens  \n",
       "0  [Warming, team, cages, games, Saturday, heard,...  \n",
       "1  [Bluegrenades, Tbh, could, made, difference, r...  \n",
       "2  [CANT, TELL, IM, FUCKING, LIVID, DISGUSTING, P...  \n",
       "3  [xavierbonilla87, problem, Biden, issue, likel...  \n",
       "4                                 [still, recovered]  "
      ]
     },
     "execution_count": 14,
     "metadata": {},
     "output_type": "execute_result"
    }
   ],
   "source": [
    "tweets_df.head()"
   ]
  },
  {
   "cell_type": "markdown",
   "metadata": {},
   "source": [
    "## 3. Get stats by state"
   ]
  },
  {
   "cell_type": "code",
   "execution_count": 15,
   "metadata": {},
   "outputs": [
    {
     "data": {
      "text/plain": [
       "(51, 8)"
      ]
     },
     "execution_count": 15,
     "metadata": {},
     "output_type": "execute_result"
    }
   ],
   "source": [
    "states_url = 'https://services1.arcgis.com/99lidPhWCzftIe9K/arcgis/rest/services/USStates/FeatureServer/0'\n",
    "states_layer = FeatureLayer(states_url)\n",
    "states_df = states_layer.query(as_df=True)\n",
    "states_df.shape"
   ]
  },
  {
   "cell_type": "code",
   "execution_count": 16,
   "metadata": {},
   "outputs": [
    {
     "data": {
      "text/html": [
       "<div>\n",
       "<style scoped>\n",
       "    .dataframe tbody tr th:only-of-type {\n",
       "        vertical-align: middle;\n",
       "    }\n",
       "\n",
       "    .dataframe tbody tr th {\n",
       "        vertical-align: top;\n",
       "    }\n",
       "\n",
       "    .dataframe thead th {\n",
       "        text-align: right;\n",
       "    }\n",
       "</style>\n",
       "<table border=\"1\" class=\"dataframe\">\n",
       "  <thead>\n",
       "    <tr style=\"text-align: right;\">\n",
       "      <th></th>\n",
       "      <th>OBJECTID</th>\n",
       "      <th>OBJECTID_1</th>\n",
       "      <th>SHAPE</th>\n",
       "      <th>STATE_ABBR</th>\n",
       "      <th>STATE_FIPS</th>\n",
       "      <th>STATE_NAME</th>\n",
       "      <th>Shape__Area</th>\n",
       "      <th>Shape__Length</th>\n",
       "    </tr>\n",
       "  </thead>\n",
       "  <tbody>\n",
       "    <tr>\n",
       "      <th>0</th>\n",
       "      <td>1</td>\n",
       "      <td>1</td>\n",
       "      <td>{\"rings\": [[[-9848795.1956, 3749386.4234], [-9...</td>\n",
       "      <td>AL</td>\n",
       "      <td>01</td>\n",
       "      <td>Alabama</td>\n",
       "      <td>1.899684e+11</td>\n",
       "      <td>2.506745e+06</td>\n",
       "    </tr>\n",
       "    <tr>\n",
       "      <th>1</th>\n",
       "      <td>2</td>\n",
       "      <td>2</td>\n",
       "      <td>{\"rings\": [[[-16280479.1337, 11068714.8191], [...</td>\n",
       "      <td>AK</td>\n",
       "      <td>02</td>\n",
       "      <td>Alaska</td>\n",
       "      <td>4.864666e+12</td>\n",
       "      <td>4.827816e+07</td>\n",
       "    </tr>\n",
       "    <tr>\n",
       "      <th>2</th>\n",
       "      <td>3</td>\n",
       "      <td>3</td>\n",
       "      <td>{\"rings\": [[[-12781025.0556, 3828631.1485], [-...</td>\n",
       "      <td>AZ</td>\n",
       "      <td>04</td>\n",
       "      <td>Arizona</td>\n",
       "      <td>4.341107e+11</td>\n",
       "      <td>2.907332e+06</td>\n",
       "    </tr>\n",
       "    <tr>\n",
       "      <th>3</th>\n",
       "      <td>4</td>\n",
       "      <td>4</td>\n",
       "      <td>{\"rings\": [[[-10531500.4946, 4369567.5414], [-...</td>\n",
       "      <td>AR</td>\n",
       "      <td>05</td>\n",
       "      <td>Arkansas</td>\n",
       "      <td>2.053290e+11</td>\n",
       "      <td>2.652242e+06</td>\n",
       "    </tr>\n",
       "    <tr>\n",
       "      <th>4</th>\n",
       "      <td>5</td>\n",
       "      <td>5</td>\n",
       "      <td>{\"rings\": [[[-13829195.0781, 4967239.458], [-1...</td>\n",
       "      <td>CA</td>\n",
       "      <td>06</td>\n",
       "      <td>California</td>\n",
       "      <td>6.496358e+11</td>\n",
       "      <td>6.856510e+06</td>\n",
       "    </tr>\n",
       "  </tbody>\n",
       "</table>\n",
       "</div>"
      ],
      "text/plain": [
       "   OBJECTID  OBJECTID_1                                              SHAPE  \\\n",
       "0         1           1  {\"rings\": [[[-9848795.1956, 3749386.4234], [-9...   \n",
       "1         2           2  {\"rings\": [[[-16280479.1337, 11068714.8191], [...   \n",
       "2         3           3  {\"rings\": [[[-12781025.0556, 3828631.1485], [-...   \n",
       "3         4           4  {\"rings\": [[[-10531500.4946, 4369567.5414], [-...   \n",
       "4         5           5  {\"rings\": [[[-13829195.0781, 4967239.458], [-1...   \n",
       "\n",
       "  STATE_ABBR STATE_FIPS  STATE_NAME   Shape__Area  Shape__Length  \n",
       "0         AL         01     Alabama  1.899684e+11   2.506745e+06  \n",
       "1         AK         02      Alaska  4.864666e+12   4.827816e+07  \n",
       "2         AZ         04     Arizona  4.341107e+11   2.907332e+06  \n",
       "3         AR         05    Arkansas  2.053290e+11   2.652242e+06  \n",
       "4         CA         06  California  6.496358e+11   6.856510e+06  "
      ]
     },
     "execution_count": 16,
     "metadata": {},
     "output_type": "execute_result"
    }
   ],
   "source": [
    "states_df.head()"
   ]
  },
  {
   "cell_type": "code",
   "execution_count": 17,
   "metadata": {},
   "outputs": [
    {
     "data": {
      "text/html": [
       "<div>\n",
       "<style scoped>\n",
       "    .dataframe tbody tr th:only-of-type {\n",
       "        vertical-align: middle;\n",
       "    }\n",
       "\n",
       "    .dataframe tbody tr th {\n",
       "        vertical-align: top;\n",
       "    }\n",
       "\n",
       "    .dataframe thead th {\n",
       "        text-align: right;\n",
       "    }\n",
       "</style>\n",
       "<table border=\"1\" class=\"dataframe\">\n",
       "  <thead>\n",
       "    <tr style=\"text-align: right;\">\n",
       "      <th></th>\n",
       "      <th>state</th>\n",
       "      <th>party</th>\n",
       "      <th>mention</th>\n",
       "      <th>hashtags</th>\n",
       "      <th>cleaned_tokens</th>\n",
       "    </tr>\n",
       "  </thead>\n",
       "  <tbody>\n",
       "    <tr>\n",
       "      <th>0</th>\n",
       "      <td>Louisiana</td>\n",
       "      <td>R</td>\n",
       "      <td></td>\n",
       "      <td></td>\n",
       "      <td>[Warming, team, cages, games, Saturday, heard,...</td>\n",
       "    </tr>\n",
       "    <tr>\n",
       "      <th>1</th>\n",
       "      <td>Louisiana</td>\n",
       "      <td>R</td>\n",
       "      <td>Bluegrenades</td>\n",
       "      <td></td>\n",
       "      <td>[Bluegrenades, Tbh, could, made, difference, r...</td>\n",
       "    </tr>\n",
       "    <tr>\n",
       "      <th>2</th>\n",
       "      <td>Louisiana</td>\n",
       "      <td>R</td>\n",
       "      <td></td>\n",
       "      <td></td>\n",
       "      <td>[CANT, TELL, IM, FUCKING, LIVID, DISGUSTING, P...</td>\n",
       "    </tr>\n",
       "    <tr>\n",
       "      <th>3</th>\n",
       "      <td>Louisiana</td>\n",
       "      <td>R</td>\n",
       "      <td>xavierbonilla87</td>\n",
       "      <td></td>\n",
       "      <td>[xavierbonilla87, problem, Biden, issue, likel...</td>\n",
       "    </tr>\n",
       "    <tr>\n",
       "      <th>4</th>\n",
       "      <td>Louisiana</td>\n",
       "      <td>R</td>\n",
       "      <td></td>\n",
       "      <td></td>\n",
       "      <td>[still, recovered]</td>\n",
       "    </tr>\n",
       "  </tbody>\n",
       "</table>\n",
       "</div>"
      ],
      "text/plain": [
       "       state party          mention hashtags  \\\n",
       "0  Louisiana     R                             \n",
       "1  Louisiana     R     Bluegrenades            \n",
       "2  Louisiana     R                             \n",
       "3  Louisiana     R  xavierbonilla87            \n",
       "4  Louisiana     R                             \n",
       "\n",
       "                                      cleaned_tokens  \n",
       "0  [Warming, team, cages, games, Saturday, heard,...  \n",
       "1  [Bluegrenades, Tbh, could, made, difference, r...  \n",
       "2  [CANT, TELL, IM, FUCKING, LIVID, DISGUSTING, P...  \n",
       "3  [xavierbonilla87, problem, Biden, issue, likel...  \n",
       "4                                 [still, recovered]  "
      ]
     },
     "execution_count": 17,
     "metadata": {},
     "output_type": "execute_result"
    }
   ],
   "source": [
    "filtered_tweets = tweets_df[['state', 'party', 'mention', 'hashtags', 'cleaned_tokens']]\n",
    "filtered_tweets.head()"
   ]
  },
  {
   "cell_type": "code",
   "execution_count": 18,
   "metadata": {},
   "outputs": [
    {
     "data": {
      "text/html": [
       "<div>\n",
       "<style scoped>\n",
       "    .dataframe tbody tr th:only-of-type {\n",
       "        vertical-align: middle;\n",
       "    }\n",
       "\n",
       "    .dataframe tbody tr th {\n",
       "        vertical-align: top;\n",
       "    }\n",
       "\n",
       "    .dataframe thead th {\n",
       "        text-align: right;\n",
       "    }\n",
       "</style>\n",
       "<table border=\"1\" class=\"dataframe\">\n",
       "  <thead>\n",
       "    <tr style=\"text-align: right;\">\n",
       "      <th></th>\n",
       "      <th>state</th>\n",
       "      <th>mention</th>\n",
       "      <th>hashtags</th>\n",
       "      <th>cleaned_tokens</th>\n",
       "      <th>party_D</th>\n",
       "      <th>party_I</th>\n",
       "      <th>party_Other</th>\n",
       "      <th>party_R</th>\n",
       "    </tr>\n",
       "  </thead>\n",
       "  <tbody>\n",
       "    <tr>\n",
       "      <th>0</th>\n",
       "      <td>Louisiana</td>\n",
       "      <td></td>\n",
       "      <td></td>\n",
       "      <td>[Warming, team, cages, games, Saturday, heard,...</td>\n",
       "      <td>0</td>\n",
       "      <td>0</td>\n",
       "      <td>0</td>\n",
       "      <td>1</td>\n",
       "    </tr>\n",
       "    <tr>\n",
       "      <th>1</th>\n",
       "      <td>Louisiana</td>\n",
       "      <td>Bluegrenades</td>\n",
       "      <td></td>\n",
       "      <td>[Bluegrenades, Tbh, could, made, difference, r...</td>\n",
       "      <td>0</td>\n",
       "      <td>0</td>\n",
       "      <td>0</td>\n",
       "      <td>1</td>\n",
       "    </tr>\n",
       "    <tr>\n",
       "      <th>2</th>\n",
       "      <td>Louisiana</td>\n",
       "      <td></td>\n",
       "      <td></td>\n",
       "      <td>[CANT, TELL, IM, FUCKING, LIVID, DISGUSTING, P...</td>\n",
       "      <td>0</td>\n",
       "      <td>0</td>\n",
       "      <td>0</td>\n",
       "      <td>1</td>\n",
       "    </tr>\n",
       "    <tr>\n",
       "      <th>3</th>\n",
       "      <td>Louisiana</td>\n",
       "      <td>xavierbonilla87</td>\n",
       "      <td></td>\n",
       "      <td>[xavierbonilla87, problem, Biden, issue, likel...</td>\n",
       "      <td>0</td>\n",
       "      <td>0</td>\n",
       "      <td>0</td>\n",
       "      <td>1</td>\n",
       "    </tr>\n",
       "    <tr>\n",
       "      <th>4</th>\n",
       "      <td>Louisiana</td>\n",
       "      <td></td>\n",
       "      <td></td>\n",
       "      <td>[still, recovered]</td>\n",
       "      <td>0</td>\n",
       "      <td>0</td>\n",
       "      <td>0</td>\n",
       "      <td>1</td>\n",
       "    </tr>\n",
       "  </tbody>\n",
       "</table>\n",
       "</div>"
      ],
      "text/plain": [
       "       state          mention hashtags  \\\n",
       "0  Louisiana                             \n",
       "1  Louisiana     Bluegrenades            \n",
       "2  Louisiana                             \n",
       "3  Louisiana  xavierbonilla87            \n",
       "4  Louisiana                             \n",
       "\n",
       "                                      cleaned_tokens  party_D  party_I  \\\n",
       "0  [Warming, team, cages, games, Saturday, heard,...        0        0   \n",
       "1  [Bluegrenades, Tbh, could, made, difference, r...        0        0   \n",
       "2  [CANT, TELL, IM, FUCKING, LIVID, DISGUSTING, P...        0        0   \n",
       "3  [xavierbonilla87, problem, Biden, issue, likel...        0        0   \n",
       "4                                 [still, recovered]        0        0   \n",
       "\n",
       "   party_Other  party_R  \n",
       "0            0        1  \n",
       "1            0        1  \n",
       "2            0        1  \n",
       "3            0        1  \n",
       "4            0        1  "
      ]
     },
     "execution_count": 18,
     "metadata": {},
     "output_type": "execute_result"
    }
   ],
   "source": [
    "filtered_tweets = pd.get_dummies(filtered_tweets, columns=['party'], prefix=['party'])\n",
    "filtered_tweets.head()"
   ]
  },
  {
   "cell_type": "code",
   "execution_count": 19,
   "metadata": {},
   "outputs": [],
   "source": [
    "state_group = filtered_tweets.groupby('state').agg({'party_D':'sum', 'party_R':'sum', 'party_I':'sum', 'party_Other':'sum', 'mention': ' '.join, 'hashtags': ' '.join, 'cleaned_tokens': 'sum'})"
   ]
  },
  {
   "cell_type": "code",
   "execution_count": 20,
   "metadata": {},
   "outputs": [
    {
     "data": {
      "text/html": [
       "<div>\n",
       "<style scoped>\n",
       "    .dataframe tbody tr th:only-of-type {\n",
       "        vertical-align: middle;\n",
       "    }\n",
       "\n",
       "    .dataframe tbody tr th {\n",
       "        vertical-align: top;\n",
       "    }\n",
       "\n",
       "    .dataframe thead th {\n",
       "        text-align: right;\n",
       "    }\n",
       "</style>\n",
       "<table border=\"1\" class=\"dataframe\">\n",
       "  <thead>\n",
       "    <tr style=\"text-align: right;\">\n",
       "      <th></th>\n",
       "      <th>party_D</th>\n",
       "      <th>party_R</th>\n",
       "      <th>party_I</th>\n",
       "      <th>party_Other</th>\n",
       "      <th>mention</th>\n",
       "      <th>hashtags</th>\n",
       "      <th>cleaned_tokens</th>\n",
       "    </tr>\n",
       "    <tr>\n",
       "      <th>state</th>\n",
       "      <th></th>\n",
       "      <th></th>\n",
       "      <th></th>\n",
       "      <th></th>\n",
       "      <th></th>\n",
       "      <th></th>\n",
       "      <th></th>\n",
       "    </tr>\n",
       "  </thead>\n",
       "  <tbody>\n",
       "    <tr>\n",
       "      <th>Alabama</th>\n",
       "      <td>89.0</td>\n",
       "      <td>45.0</td>\n",
       "      <td>0.0</td>\n",
       "      <td>0.0</td>\n",
       "      <td>realDonaldTrump        LynnWilson111,Flyfi...</td>\n",
       "      <td>JobsJobsJobs, AL2 FightBack, COVID19, WINNI...</td>\n",
       "      <td>[Great, see, President, recovering, America, l...</td>\n",
       "    </tr>\n",
       "    <tr>\n",
       "      <th>Arizona</th>\n",
       "      <td>377.0</td>\n",
       "      <td>260.0</td>\n",
       "      <td>0.0</td>\n",
       "      <td>0.0</td>\n",
       "      <td>Michele_Henson,Tea_Party_Chris,RepGosar Michel...</td>\n",
       "      <td>PMA  azcd7, barnettforcongress   A...</td>\n",
       "      <td>[RepGosar, Michele, shhhh, always, voice, Amer...</td>\n",
       "    </tr>\n",
       "    <tr>\n",
       "      <th>Arkansas</th>\n",
       "      <td>52.0</td>\n",
       "      <td>25.0</td>\n",
       "      <td>0.0</td>\n",
       "      <td>10.0</td>\n",
       "      <td>POTUS          PantsuitPolitic   MarioDB,...</td>\n",
       "      <td>PBMs Election2020, ElectANurse    world...</td>\n",
       "      <td>[Today, last, day, Arkansas, register, vote, u...</td>\n",
       "    </tr>\n",
       "    <tr>\n",
       "      <th>California</th>\n",
       "      <td>1318.0</td>\n",
       "      <td>916.0</td>\n",
       "      <td>0.0</td>\n",
       "      <td>0.0</td>\n",
       "      <td>LawmanTommy LawmanTommy SonnieJohnson  OP_Omom...</td>\n",
       "      <td>CA53   CA33     2020Census  USA  SCOTUS Her...</td>\n",
       "      <td>[LawmanTommy, mom, said, LawmanTommy, mom, Son...</td>\n",
       "    </tr>\n",
       "    <tr>\n",
       "      <th>Colorado</th>\n",
       "      <td>177.0</td>\n",
       "      <td>157.0</td>\n",
       "      <td>12.0</td>\n",
       "      <td>2.0</td>\n",
       "      <td>RepDLamborn RepSwalwell       officialusalg R...</td>\n",
       "      <td>CD6 DemandDougDebates  CO03 CD6, Healthcare, P...</td>\n",
       "      <td>[Attention, CD6, Medicare, Open, Enrollment, p...</td>\n",
       "    </tr>\n",
       "  </tbody>\n",
       "</table>\n",
       "</div>"
      ],
      "text/plain": [
       "            party_D  party_R  party_I  party_Other  \\\n",
       "state                                                \n",
       "Alabama        89.0     45.0      0.0          0.0   \n",
       "Arizona       377.0    260.0      0.0          0.0   \n",
       "Arkansas       52.0     25.0      0.0         10.0   \n",
       "California   1318.0    916.0      0.0          0.0   \n",
       "Colorado      177.0    157.0     12.0          2.0   \n",
       "\n",
       "                                                      mention  \\\n",
       "state                                                           \n",
       "Alabama         realDonaldTrump        LynnWilson111,Flyfi...   \n",
       "Arizona     Michele_Henson,Tea_Party_Chris,RepGosar Michel...   \n",
       "Arkansas         POTUS          PantsuitPolitic   MarioDB,...   \n",
       "California  LawmanTommy LawmanTommy SonnieJohnson  OP_Omom...   \n",
       "Colorado     RepDLamborn RepSwalwell       officialusalg R...   \n",
       "\n",
       "                                                     hashtags  \\\n",
       "state                                                           \n",
       "Alabama        JobsJobsJobs, AL2 FightBack, COVID19, WINNI...   \n",
       "Arizona                 PMA  azcd7, barnettforcongress   A...   \n",
       "Arkansas           PBMs Election2020, ElectANurse    world...   \n",
       "California     CA53   CA33     2020Census  USA  SCOTUS Her...   \n",
       "Colorado    CD6 DemandDougDebates  CO03 CD6, Healthcare, P...   \n",
       "\n",
       "                                               cleaned_tokens  \n",
       "state                                                          \n",
       "Alabama     [Great, see, President, recovering, America, l...  \n",
       "Arizona     [RepGosar, Michele, shhhh, always, voice, Amer...  \n",
       "Arkansas    [Today, last, day, Arkansas, register, vote, u...  \n",
       "California  [LawmanTommy, mom, said, LawmanTommy, mom, Son...  \n",
       "Colorado    [Attention, CD6, Medicare, Open, Enrollment, p...  "
      ]
     },
     "execution_count": 20,
     "metadata": {},
     "output_type": "execute_result"
    }
   ],
   "source": [
    "state_group.head()"
   ]
  },
  {
   "cell_type": "markdown",
   "metadata": {},
   "source": [
    "## 4. Find the most popular topics and terms across all tweets\n",
    "\n",
    "First we lemmatize each word, i.e extract the root for each word to equalize them. E.g. Running, ran, runner will all be reduced to the root word _run_"
   ]
  },
  {
   "cell_type": "code",
   "execution_count": 21,
   "metadata": {},
   "outputs": [
    {
     "name": "stderr",
     "output_type": "stream",
     "text": [
      "[nltk_data] Downloading package wordnet to\n",
      "[nltk_data]     C:\\Users\\manu9321\\AppData\\Roaming\\nltk_data...\n",
      "[nltk_data]   Package wordnet is already up-to-date!\n"
     ]
    },
    {
     "data": {
      "text/plain": [
       "True"
      ]
     },
     "execution_count": 21,
     "metadata": {},
     "output_type": "execute_result"
    }
   ],
   "source": [
    "nltk.download('wordnet')"
   ]
  },
  {
   "cell_type": "code",
   "execution_count": 22,
   "metadata": {},
   "outputs": [],
   "source": [
    "from nltk.corpus import wordnet as wn"
   ]
  },
  {
   "cell_type": "code",
   "execution_count": 23,
   "metadata": {},
   "outputs": [],
   "source": [
    "def get_lemma(word):\n",
    "    '''Return root of each word'''\n",
    "    lemma = wn.morphy(word)\n",
    "    if lemma is None:\n",
    "        return word\n",
    "    else:\n",
    "        return lemma\n",
    "\n",
    "def lemmatize_tokens(tokens):\n",
    "    '''Return cleaned tokens in their root form'''\n",
    "    return [get_lemma(token).lower() for token in tokens]"
   ]
  },
  {
   "cell_type": "code",
   "execution_count": 24,
   "metadata": {},
   "outputs": [],
   "source": [
    "state_group['token_root_words'] = state_group['cleaned_tokens'].apply(lemmatize_tokens)"
   ]
  },
  {
   "cell_type": "code",
   "execution_count": 25,
   "metadata": {},
   "outputs": [],
   "source": [
    "from gensim import corpora\n",
    "from gensim.models.ldamodel import LdaModel"
   ]
  },
  {
   "cell_type": "code",
   "execution_count": 26,
   "metadata": {},
   "outputs": [],
   "source": [
    "def topics_for_state(token_roots):\n",
    "    '''Extract the top 5 topics/themes for each state'''\n",
    "    dictionary = corpora.dictionary.Dictionary(token_roots)\n",
    "    corpus = [dictionary.doc2bow(token) for token in token_roots]\n",
    "    ldamodel = LdaModel(corpus, num_topics = 7, id2word=dictionary, passes=15)\n",
    "    ldamodel.save('model.gensim')\n",
    "    topics = ldamodel.print_topics(num_words=5)\n",
    "    for topic in topics:\n",
    "        print(topic)"
   ]
  },
  {
   "cell_type": "code",
   "execution_count": 27,
   "metadata": {},
   "outputs": [
    {
     "name": "stdout",
     "output_type": "stream",
     "text": [
      "(0, '0.006*\"get\" + 0.004*\"one\" + 0.004*\"people\" + 0.004*\"like\" + 0.003*\"make\"')\n",
      "(1, '0.008*\"get\" + 0.006*\"like\" + 0.006*\"people\" + 0.006*\"one\" + 0.004*\"know\"')\n",
      "(2, '0.003*\"senthomtillis\" + 0.003*\"senatorburr\" + 0.002*\"repmarkwalker\" + 0.002*\"virginiafoxx\" + 0.002*\"ncpolitics\"')\n",
      "(3, '0.008*\"vote\" + 0.006*\"people\" + 0.006*\"need\" + 0.005*\"get\" + 0.005*\"trump\"')\n",
      "(4, '0.000*\"get\" + 0.000*\"like\" + 0.000*\"know\" + 0.000*\"one\" + 0.000*\"people\"')\n",
      "(5, '0.002*\"florida\" + 0.001*\"utpol\" + 0.001*\"anewpathforward\" + 0.001*\"gaetz\" + 0.001*\"idpol\"')\n",
      "(6, '0.002*\"nebraska\" + 0.002*\"eastman\" + 0.002*\"bacon\" + 0.002*\"kara\" + 0.001*\"fortenberry\"')\n"
     ]
    }
   ],
   "source": [
    "topics_for_state(state_group['token_root_words'])"
   ]
  },
  {
   "cell_type": "code",
   "execution_count": 28,
   "metadata": {},
   "outputs": [
    {
     "name": "stderr",
     "output_type": "stream",
     "text": [
      "C:\\Users\\manu9321\\AppData\\Local\\Continuum\\anaconda37\\lib\\site-packages\\past\\types\\oldstr.py:5: DeprecationWarning: Using or importing the ABCs from 'collections' instead of from 'collections.abc' is deprecated, and in 3.8 it will stop working\n",
      "  from collections import Iterable\n"
     ]
    }
   ],
   "source": [
    "import pyLDAvis.gensim\n",
    "import gensim"
   ]
  },
  {
   "cell_type": "code",
   "execution_count": 29,
   "metadata": {},
   "outputs": [],
   "source": [
    "dictionary = corpora.dictionary.Dictionary(state_group['token_root_words'])\n",
    "corpus = [dictionary.doc2bow(token) for token in state_group['token_root_words']]\n",
    "lda = gensim.models.ldamodel.LdaModel.load('model.gensim')"
   ]
  },
  {
   "cell_type": "code",
   "execution_count": 30,
   "metadata": {},
   "outputs": [
    {
     "name": "stderr",
     "output_type": "stream",
     "text": [
      "C:\\Users\\manu9321\\AppData\\Local\\Continuum\\anaconda37\\lib\\site-packages\\pyLDAvis\\_prepare.py:257: FutureWarning: Sorting because non-concatenation axis is not aligned. A future version\n",
      "of pandas will change to not sort by default.\n",
      "\n",
      "To accept the future behavior, pass 'sort=False'.\n",
      "\n",
      "To retain the current behavior and silence the warning, pass 'sort=True'.\n",
      "\n",
      "  return pd.concat([default_term_info] + list(topic_dfs))\n"
     ]
    }
   ],
   "source": [
    "p = pyLDAvis.gensim.prepare(lda, corpus, dictionary)\n",
    "pyLDAvis.save_html(p, 'lda.html')"
   ]
  },
  {
   "cell_type": "markdown",
   "metadata": {},
   "source": [
    "Here is the static view of the topics generated\n",
    "\n",
    "![image](https://user-images.githubusercontent.com/13968196/95792497-9eecdd00-0cb1-11eb-9ca3-a1ce31b97c4b.png)\n"
   ]
  },
  {
   "cell_type": "code",
   "execution_count": null,
   "metadata": {},
   "outputs": [],
   "source": []
  }
 ],
 "metadata": {
  "esriNotebookRuntime": {
   "notebookRuntimeName": "ArcGIS Notebook Python 3 Advanced",
   "notebookRuntimeVersion": "4.0"
  },
  "kernelspec": {
   "display_name": "Python 3",
   "language": "python",
   "name": "python3"
  },
  "language_info": {
   "codemirror_mode": {
    "name": "ipython",
    "version": 3
   },
   "file_extension": ".py",
   "mimetype": "text/x-python",
   "name": "python",
   "nbconvert_exporter": "python",
   "pygments_lexer": "ipython3",
   "version": "3.7.1"
  }
 },
 "nbformat": 4,
 "nbformat_minor": 2
}
